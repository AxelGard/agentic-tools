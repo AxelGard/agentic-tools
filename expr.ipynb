{
 "cells": [
  {
   "cell_type": "code",
   "execution_count": 1,
   "id": "5afb7c22",
   "metadata": {},
   "outputs": [],
   "source": [
    "from langchain_ollama.chat_models import ChatOllama\n",
    "\n",
    "llm = ChatOllama(model=\"llama3.1\", temperature=0)"
   ]
  },
  {
   "cell_type": "code",
   "execution_count": 2,
   "id": "7939b26c",
   "metadata": {},
   "outputs": [
    {
     "data": {
      "text/plain": [
       "'0.1.0'"
      ]
     },
     "execution_count": 2,
     "metadata": {},
     "output_type": "execute_result"
    }
   ],
   "source": [
    "import agentic_tools\n",
    "agentic_tools.__version__"
   ]
  },
  {
   "cell_type": "code",
   "execution_count": 3,
   "id": "bbdd2dfb",
   "metadata": {},
   "outputs": [],
   "source": [
    "from agentic_tools import ai_tool\n",
    "import yfinance as yf\n",
    "\n",
    "\n",
    "@ai_tool\n",
    "def get_stock_price(symbol: str, period:str=\"1d\") -> str:\n",
    "    stock = yf.Ticker(symbol)\n",
    "    price = stock.history(period=period)[\"Close\"].iloc[0]\n",
    "    return f\"The stock price of {symbol} was ${price:.2f} {period} ago\"\n",
    "\n",
    "@ai_tool\n",
    "def get_market_cap(symbol: str) -> str:\n",
    "    stock = yf.Ticker(symbol)\n",
    "    cap = stock.info.get(\"marketCap\", None)\n",
    "    if cap:\n",
    "        return f\"The market cap of {symbol} is ${cap:,}\"\n",
    "    return f\"Market cap data for {symbol} is not available.\"\n",
    "\n",
    "@ai_tool\n",
    "def get_pe_ratio(symbol: str) -> str:\n",
    "    \"\"\" Will return P/E ratrio of the company \"\"\"\n",
    "    stock = yf.Ticker(symbol)\n",
    "    pe = stock.info.get(\"trailingPE\", None)\n",
    "    if pe:\n",
    "        return f\"The P/E ratio of {symbol} is {pe:.2f}\"\n",
    "    return f\"P/E ratio data for {symbol} is not available.\"\n",
    "\n"
   ]
  },
  {
   "cell_type": "code",
   "execution_count": 4,
   "id": "6b15a547",
   "metadata": {},
   "outputs": [
    {
     "name": "stdout",
     "output_type": "stream",
     "text": [
      "The stock price of AAPL was $210.16 5d ago\n",
      "\n",
      "I'm an AI assistant. I don't have a personal identity or emotions, but I can provide information and help with tasks to the best of my abilities. How can I assist you today?\n",
      "\n"
     ]
    }
   ],
   "source": [
    "agent = agentic_tools.Agent(llm_chat_model=llm)\n",
    "\n",
    "query = \"what was apples stock price a 5 days ago?\"\n",
    "print(f\"{agent.query(question=query)}\\n\")\n",
    "\n",
    "query=\"who are you?\"\n",
    "print(f\"{agent.query(question=query)}\\n\")\n"
   ]
  },
  {
   "cell_type": "code",
   "execution_count": null,
   "id": "af1f1e1f",
   "metadata": {},
   "outputs": [],
   "source": []
  }
 ],
 "metadata": {
  "kernelspec": {
   "display_name": "env",
   "language": "python",
   "name": "python3"
  },
  "language_info": {
   "codemirror_mode": {
    "name": "ipython",
    "version": 3
   },
   "file_extension": ".py",
   "mimetype": "text/x-python",
   "name": "python",
   "nbconvert_exporter": "python",
   "pygments_lexer": "ipython3",
   "version": "3.12.3"
  }
 },
 "nbformat": 4,
 "nbformat_minor": 5
}
