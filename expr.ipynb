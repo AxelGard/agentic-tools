{
 "cells": [
  {
   "cell_type": "code",
   "execution_count": 1,
   "id": "5afb7c22",
   "metadata": {},
   "outputs": [],
   "source": [
    "from langchain_ollama.chat_models import ChatOllama\n",
    "\n",
    "llm = ChatOllama(model=\"llama3.1\", temperature=0)"
   ]
  },
  {
   "cell_type": "code",
   "execution_count": 2,
   "id": "7939b26c",
   "metadata": {},
   "outputs": [
    {
     "data": {
      "text/plain": [
       "'0.2.0'"
      ]
     },
     "execution_count": 2,
     "metadata": {},
     "output_type": "execute_result"
    }
   ],
   "source": [
    "import agentic_tools\n",
    "agentic_tools.__version__"
   ]
  },
  {
   "cell_type": "code",
   "execution_count": 3,
   "id": "bbdd2dfb",
   "metadata": {},
   "outputs": [],
   "source": [
    "from agentic_tools import ai_tool\n",
    "import yfinance as yf\n",
    "import math\n",
    "import typing\n",
    "\n",
    "@ai_tool\n",
    "def get_stock_price(symbol: str, period:str=\"1d\") -> str:\n",
    "    stock = yf.Ticker(symbol)\n",
    "    price = stock.history(period=period)[\"Close\"].iloc[0]\n",
    "    return f\"The stock price of {symbol} was ${price:.2f} {period} ago\"\n",
    "\n",
    "@ai_tool\n",
    "def get_market_cap(symbol: str) -> str:\n",
    "    stock = yf.Ticker(symbol)\n",
    "    cap = stock.info.get(\"marketCap\", None)\n",
    "    if cap:\n",
    "        return f\"The market cap of {symbol} is ${cap:,}\"\n",
    "    return f\"Market cap data for {symbol} is not available.\"\n",
    "\n",
    "@ai_tool\n",
    "def get_pe_ratio(symbol: str) -> str:\n",
    "    \"\"\" Will return P/E ratrio of the company \"\"\"\n",
    "    stock = yf.Ticker(symbol)\n",
    "    pe = stock.info.get(\"trailingPE\", None)\n",
    "    if pe:\n",
    "        return f\"The P/E ratio of {symbol} is {pe:.2f}\"\n",
    "    return f\"P/E ratio data for {symbol} is not available.\"\n",
    "\n",
    "@ai_tool\n",
    "def inv_sqrt(x:typing.Union[int, float]) -> float:\n",
    "    return 1 / math.sqrt(x) "
   ]
  },
  {
   "cell_type": "code",
   "execution_count": 4,
   "id": "6b15a547",
   "metadata": {},
   "outputs": [
    {
     "name": "stdout",
     "output_type": "stream",
     "text": [
      "The stock price of AAPL was $210.02 5d ago\n",
      "\n",
      "I'm an AI assistant. I don't have a personal identity or emotions, but I can provide information and help with tasks to the best of my abilities. How can I assist you today?\n",
      "\n"
     ]
    }
   ],
   "source": [
    "agent = agentic_tools.Agent(llm_chat_model=llm)\n",
    "\n",
    "query = \"what was apples stock price a 5 days ago?\"\n",
    "print(f\"{agent.query(question=query)}\\n\")\n",
    "\n",
    "query=\"who are you?\"\n",
    "print(f\"{agent.query(question=query)}\\n\")\n"
   ]
  },
  {
   "cell_type": "code",
   "execution_count": 5,
   "id": "af1f1e1f",
   "metadata": {},
   "outputs": [
    {
     "name": "stdout",
     "output_type": "stream",
     "text": [
      "0.3333333333333333\n",
      "\n"
     ]
    }
   ],
   "source": [
    "query=\"whats the inverse squre root of 9\"\n",
    "print(f\"{agent.query(question=query)}\\n\")"
   ]
  },
  {
   "cell_type": "code",
   "execution_count": 6,
   "id": "50fe1b4f",
   "metadata": {},
   "outputs": [
    {
     "data": {
      "text/plain": [
       "()"
      ]
     },
     "execution_count": 6,
     "metadata": {},
     "output_type": "execute_result"
    }
   ],
   "source": [
    "from typing import get_type_hints, get_args, Union\n",
    "\n",
    "def inv_sqrt(x:Union[int, float]) -> float:\n",
    "    return 1 / math.sqrt(x)\n",
    "\n",
    "def foo(x:int)-> float:\n",
    "    return x + 1.0\n",
    "\n",
    "hints = get_type_hints(foo)\n",
    "x_type = hints[\"x\"]\n",
    "get_args(x_type)\n"
   ]
  },
  {
   "cell_type": "code",
   "execution_count": 7,
   "id": "2d0799c6",
   "metadata": {},
   "outputs": [
    {
     "name": "stdout",
     "output_type": "stream",
     "text": [
      "7\n",
      "7\n",
      "7\n"
     ]
    }
   ],
   "source": [
    "func_code = \"\"\"python\n",
    "def dynamic_add(a, b):\n",
    "    return a + b\n",
    "print(dynamic_add(3, 4));print(dynamic_add(3, 4))\n",
    "\"\"\"\n",
    "\n",
    "exec(func_code.split(\"python\")[1])\n",
    "print(dynamic_add(3, 4))\n"
   ]
  },
  {
   "cell_type": "code",
   "execution_count": 9,
   "id": "23df577b",
   "metadata": {},
   "outputs": [
    {
     "name": "stderr",
     "output_type": "stream",
     "text": [
      "Got error when calling tool\n",
      "Got error when calling tool\n"
     ]
    },
    {
     "name": "stdout",
     "output_type": "stream",
     "text": [
      "error: execute_python_code(*['\"2**88;'])\n",
      "\n"
     ]
    }
   ],
   "source": [
    "@ai_tool\n",
    "def execute_python_code(python_code_as_string:str) -> str:\n",
    "    \"\"\" \n",
    "    This tool that lets you execute python code and returns the result as a string. \n",
    "    So if you want the result of a expression remeber you need to asign the varibel result to that.\n",
    "    If you need more then one line of code then you need to seperate with `;`\n",
    "    So if you want to use this tool just call it with the python code and NOTHING ELSE. \n",
    "    When you get a result that you are satesfied with then you should respond with that result\"\"\"\n",
    "    return str(exec(python_code_as_string))\n",
    "\n",
    "@ai_tool\n",
    "def evaluate_python_expression(python_expression_as_string:str) -> str:\n",
    "    \"\"\" \n",
    "    This tool that lets you execute python expression and returns the result as a string. \n",
    "    So if you want the result of a expression remeber you need to asign the varibel result to that.\n",
    "    So if you want to use this tool just call it with the python code and NOTHING ELSE. \n",
    "    When you get a result that you are satesfied with then you should respond with that result\"\"\"\n",
    "    return str(eval(python_expression_as_string))\n",
    "\n",
    "\n",
    "query=\"write the needed code that you need to calculate 2 to the power of 88\"\n",
    "r = \"None\" \n",
    "while True:\n",
    "    try: \n",
    "        r = agent.query(question=f\"Question:{query}; result:{r}\")\n",
    "        break\n",
    "    except Exception as e: \n",
    "        r  = str(e)\n",
    "print(r)\n",
    "\n"
   ]
  },
  {
   "cell_type": "code",
   "execution_count": null,
   "id": "68adfc29",
   "metadata": {},
   "outputs": [],
   "source": []
  },
  {
   "cell_type": "code",
   "execution_count": null,
   "id": "a3031dfe",
   "metadata": {},
   "outputs": [],
   "source": []
  }
 ],
 "metadata": {
  "kernelspec": {
   "display_name": "env",
   "language": "python",
   "name": "python3"
  },
  "language_info": {
   "codemirror_mode": {
    "name": "ipython",
    "version": 3
   },
   "file_extension": ".py",
   "mimetype": "text/x-python",
   "name": "python",
   "nbconvert_exporter": "python",
   "pygments_lexer": "ipython3",
   "version": "3.12.3"
  }
 },
 "nbformat": 4,
 "nbformat_minor": 5
}
